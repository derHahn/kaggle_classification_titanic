{
 "cells": [
  {
   "cell_type": "markdown",
   "id": "e9e402d1-240f-4118-941b-9c9b2302f292",
   "metadata": {},
   "source": [
    "## Kaggle competition\n",
    "### Titanic: Machine Learning From Desaster\n",
    "Jens Hahn"
   ]
  },
  {
   "cell_type": "markdown",
   "id": "e3045b56-b230-443e-ac38-5c1676d879ae",
   "metadata": {},
   "source": [
    "### 2. Model"
   ]
  },
  {
   "cell_type": "code",
   "execution_count": null,
   "id": "e8f66e28-73ae-414a-a47f-cc9cae031ef2",
   "metadata": {},
   "outputs": [],
   "source": [
    "import pandas as pd\n",
    "import numpy as np\n",
    "\n",
    "from sklearn.model_selection import train_test_split, GridSearchCV\n",
    "from sklearn.pipeline import Pipeline\n",
    "from sklearn.compose import ColumnTransformer\n",
    "from sklearn.preprocessing import PowerTransformer, KBinsDiscretizer, OneHotEncoder, FunctionTransformer\n",
    "from sklearn.impute import SimpleImputer\n",
    "\n",
    "from sklearn.ensemble import RandomForestClassifier, GradientBoostingClassifier\n",
    "from sklearn.linear_model import LogisticRegression"
   ]
  },
  {
   "cell_type": "markdown",
   "id": "9ff5ed67-cea2-447a-9cf8-284eda0e74c0",
   "metadata": {},
   "source": [
    "Load data"
   ]
  },
  {
   "cell_type": "code",
   "execution_count": null,
   "id": "f2469547-745d-422d-a551-360695aa0f18",
   "metadata": {},
   "outputs": [],
   "source": [
    "df = pd.read_csv('data/train.csv', index_col=0)"
   ]
  },
  {
   "cell_type": "code",
   "execution_count": null,
   "id": "de476f46-323b-4925-8a79-416c413aafb3",
   "metadata": {},
   "outputs": [],
   "source": [
    "X = df.drop('Survived', axis=1)\n",
    "y = df['Survived']"
   ]
  },
  {
   "cell_type": "markdown",
   "id": "c8433c52-24a2-4e2c-998c-ad5924dd3455",
   "metadata": {},
   "source": [
    "Set `FunctionTransformer`"
   ]
  },
  {
   "cell_type": "code",
   "execution_count": null,
   "id": "b6dab508-0aef-437f-9db5-fe72a36ef04c",
   "metadata": {},
   "outputs": [],
   "source": [
    "def cabin_code(frame):\n",
    "    \"\"\"get one letter code for cabin, add 'U' for unknown\"\"\"\n",
    "    column = frame.iloc[:,0]\n",
    "    column.fillna('U', inplace=True)\n",
    "    return column.str[0].to_frame()"
   ]
  },
  {
   "cell_type": "code",
   "execution_count": null,
   "id": "d79e2810-c685-4cec-ac65-61d8d02c2f4c",
   "metadata": {},
   "outputs": [],
   "source": [
    "def family(frame):\n",
    "    \"\"\"add a column with sum of family members\"\"\"\n",
    "    frame['family'] = frame.sum(axis=1)\n",
    "    frame['alone'] = (frame['family'] > 1).astype(int)\n",
    "    return frame"
   ]
  },
  {
   "cell_type": "code",
   "execution_count": null,
   "id": "b1b02938-9487-4282-a5ef-3d51a3fab90a",
   "metadata": {},
   "outputs": [],
   "source": [
    "def title_len(frame):\n",
    "    \"\"\"add column with length of name\"\"\"\n",
    "    column = frame.iloc[:,0]\n",
    "    return column.str.len().to_frame()"
   ]
  },
  {
   "cell_type": "code",
   "execution_count": null,
   "id": "b12f2835-ce9b-4098-a79f-2a64c7534888",
   "metadata": {},
   "outputs": [],
   "source": [
    "def titles(frame):\n",
    "    \"\"\"extract titles from names\"\"\"\n",
    "    frame = frame.iloc[:,0].str.extract(r'(\\w+\\.)')\n",
    "    frame.replace({'Mlle.': 'Miss.', 'Ms.': 'Miss.', 'Mme.': 'Mrs.', \n",
    "                   'Col.': 'Officer', 'Capt.': 'Officer', 'Jonkheer.': 'Nobles',\n",
    "                   'Master.': 'Nobles', 'Don.': 'Nobles', 'Sir.': 'Nobles', 'Lady.': 'Nobles',\n",
    "                   'Countess.': 'Nobles', 'Major.': 'Officer'}, inplace=True)\n",
    "    return frame"
   ]
  },
  {
   "cell_type": "code",
   "execution_count": null,
   "id": "038544f2-398f-4d2f-8682-42522535c9cf",
   "metadata": {},
   "outputs": [],
   "source": [
    "def add_bias(frame):\n",
    "    \"\"\"add bias for box-cox transformation, all > 0\"\"\"\n",
    "    frame.fillna(0, inplace=True)\n",
    "    return frame + 0.001"
   ]
  },
  {
   "cell_type": "markdown",
   "id": "19afe647-b909-4570-9242-41d6177bf6f0",
   "metadata": {},
   "source": [
    "Split data"
   ]
  },
  {
   "cell_type": "code",
   "execution_count": null,
   "id": "91b1c076-0d8e-48b3-a826-b0c9aba98206",
   "metadata": {},
   "outputs": [],
   "source": [
    "X_train, X_test, y_train, y_test = train_test_split(X, y, stratify=y)"
   ]
  },
  {
   "cell_type": "markdown",
   "id": "5ccd09b7-8f08-469c-a588-62b72bd746be",
   "metadata": {},
   "source": [
    "Define pipelines"
   ]
  },
  {
   "cell_type": "code",
   "execution_count": null,
   "id": "79316bef-808d-4df5-97cd-711ee47db4a2",
   "metadata": {},
   "outputs": [],
   "source": [
    "age_pipe = Pipeline([\n",
    "    ('age_imp', SimpleImputer(strategy='mean')),\n",
    "    ('age_bin', KBinsDiscretizer(encode='ordinal', strategy='quantile', n_bins=3)),\n",
    "    ('age_ohe', OneHotEncoder(handle_unknown='ignore', drop='first'))\n",
    "])\n",
    "\n",
    "title_pipe = Pipeline([\n",
    "    ('title_get', FunctionTransformer(titles)),\n",
    "    ('titles_ohe', OneHotEncoder(handle_unknown='ignore', drop='first'))\n",
    "])\n",
    "\n",
    "family_pipe = Pipeline([\n",
    "    ('fam_get', FunctionTransformer(family)),\n",
    "    ('fam_ohe', OneHotEncoder(handle_unknown='ignore', drop='first'))\n",
    "])\n",
    "\n",
    "cabin_pipe = Pipeline([\n",
    "    ('cab_letter', FunctionTransformer(cabin_code)),\n",
    "    ('cab_ohe', OneHotEncoder(handle_unknown='ignore', drop='first'))\n",
    "])\n",
    "\n",
    "embarked_pipe = Pipeline([\n",
    "    ('emb_imp', SimpleImputer(strategy='most_frequent')),\n",
    "    ('emb_ohe', OneHotEncoder(handle_unknown='ignore', drop='first'))\n",
    "])\n",
    "\n",
    "fare_pipe = Pipeline([\n",
    "    ('fare_add', FunctionTransformer(add_bias)),\n",
    "    ('fare_trans', PowerTransformer(method='box-cox')),\n",
    "    ('fare_bin', KBinsDiscretizer(encode='ordinal', strategy='uniform', n_bins=8)),\n",
    "    ('fare_ohe', OneHotEncoder(handle_unknown='ignore', drop='first'))\n",
    "])"
   ]
  },
  {
   "cell_type": "code",
   "execution_count": null,
   "id": "771cd8d5-3b47-4158-9e0e-0b305b5a246b",
   "metadata": {},
   "outputs": [],
   "source": [
    "ct = ColumnTransformer([\n",
    "    ('cabin', cabin_pipe, ['Cabin']),\n",
    "    ('family', family_pipe, ['SibSp', 'Parch']),\n",
    "    ('name_len', FunctionTransformer(title_len), ['Name']),\n",
    "    ('title', title_pipe, ['Name']),\n",
    "    ('fare', fare_pipe, ['Fare']),\n",
    "    ('age', age_pipe, ['Age']),\n",
    "    ('class', OneHotEncoder(), ['Pclass']),\n",
    "    ('sex', OneHotEncoder(), ['Sex']),\n",
    "    ('embark', embarked_pipe, ['Embarked'])\n",
    "], remainder='drop')"
   ]
  },
  {
   "cell_type": "code",
   "execution_count": null,
   "id": "c93c2190-6820-4f73-964a-e4372936033c",
   "metadata": {},
   "outputs": [],
   "source": [
    "model_pipe = Pipeline([\n",
    "    ('ct', ct),\n",
    "    ('model', RandomForestClassifier(max_depth=6))\n",
    "    #('model', GradientBoostingClassifier())\n",
    "    #('model', LogisticRegression())\n",
    "])"
   ]
  },
  {
   "cell_type": "markdown",
   "id": "44a9e1b2-f33a-41b4-a50e-fa855b3e9f09",
   "metadata": {},
   "source": [
    "User `GridSearchCV` to find best hyperparameter setting"
   ]
  },
  {
   "cell_type": "code",
   "execution_count": null,
   "id": "9ca69243-ce08-4873-b478-7e30e7481e6f",
   "metadata": {
    "tags": []
   },
   "outputs": [],
   "source": [
    "model_pipe.get_params();"
   ]
  },
  {
   "cell_type": "code",
   "execution_count": null,
   "id": "30344a18-7fd7-4d43-80b7-080fafa9ed6c",
   "metadata": {
    "tags": []
   },
   "outputs": [],
   "source": [
    "param_grid = {'model__max_depth': [3,4,5,6,7], \n",
    "              'ct__age__age_bin__strategy': ['quantile', 'uniform'],\n",
    "              'ct__age__age_bin__n_bins': [3,4,5,6,7],\n",
    "              'ct__fare__fare_bin__n_bins': [3,4,5,6,7,8],\n",
    "              'ct__fare__fare_bin__strategy': ['quantile', 'uniform']\n",
    "             }"
   ]
  },
  {
   "cell_type": "code",
   "execution_count": null,
   "id": "7b142cfc-82d7-437f-8eab-f26736c37553",
   "metadata": {
    "tags": []
   },
   "outputs": [],
   "source": [
    "gscv = GridSearchCV(model_pipe, param_grid=param_grid)"
   ]
  },
  {
   "cell_type": "code",
   "execution_count": null,
   "id": "2516bf56-9cac-4f82-89bd-84d2e5855f60",
   "metadata": {
    "tags": []
   },
   "outputs": [],
   "source": [
    "gscv.fit(X_train, y_train)"
   ]
  },
  {
   "cell_type": "code",
   "execution_count": null,
   "id": "c7af7b17-bf87-4ef3-b86d-0fdbaa46109f",
   "metadata": {
    "tags": []
   },
   "outputs": [],
   "source": [
    "gscv.best_params_"
   ]
  },
  {
   "cell_type": "code",
   "execution_count": null,
   "id": "a121901e-4d3f-4f7e-9510-6e16de171768",
   "metadata": {
    "tags": []
   },
   "outputs": [],
   "source": [
    "gscv.best_estimator_.score(X_test, y_test)"
   ]
  },
  {
   "cell_type": "markdown",
   "id": "1f537491-b332-4e4e-a17e-0931de792475",
   "metadata": {},
   "source": [
    "## Kaggle prediction"
   ]
  },
  {
   "cell_type": "code",
   "execution_count": null,
   "id": "32478f33-114f-4e0f-93cb-896d31defc86",
   "metadata": {},
   "outputs": [],
   "source": [
    "df_kaggle = pd.read_csv('data/test.csv', index_col=0)"
   ]
  },
  {
   "cell_type": "code",
   "execution_count": null,
   "id": "78e87a40-2621-425e-84e4-bf2ef58e8460",
   "metadata": {},
   "outputs": [],
   "source": [
    "X_kaggle = df_kaggle.copy()"
   ]
  },
  {
   "cell_type": "code",
   "execution_count": null,
   "id": "140b4151-a274-463e-bd8a-035af712f47d",
   "metadata": {},
   "outputs": [],
   "source": [
    "y_kaggle = gscv.best_estimator_.predict(X_kaggle)"
   ]
  },
  {
   "cell_type": "code",
   "execution_count": null,
   "id": "4076bc5d-38c3-468c-ad98-27123d72fb14",
   "metadata": {},
   "outputs": [],
   "source": [
    "sol = pd.DataFrame(y_kaggle, columns=['Survived'], index=df_kaggle.index)"
   ]
  },
  {
   "cell_type": "code",
   "execution_count": null,
   "id": "c5225668-b2fc-4362-9b53-8b310efa6063",
   "metadata": {},
   "outputs": [],
   "source": [
    "sol.head()"
   ]
  },
  {
   "cell_type": "code",
   "execution_count": null,
   "id": "1393a19b-63da-4192-9323-06040f18a120",
   "metadata": {},
   "outputs": [],
   "source": [
    "sol.to_csv('solution.csv')"
   ]
  }
 ],
 "metadata": {
  "kernelspec": {
   "display_name": "Python 3 (ipykernel)",
   "language": "python",
   "name": "python3"
  },
  "language_info": {
   "codemirror_mode": {
    "name": "ipython",
    "version": 3
   },
   "file_extension": ".py",
   "mimetype": "text/x-python",
   "name": "python",
   "nbconvert_exporter": "python",
   "pygments_lexer": "ipython3",
   "version": "3.11.2"
  }
 },
 "nbformat": 4,
 "nbformat_minor": 5
}
