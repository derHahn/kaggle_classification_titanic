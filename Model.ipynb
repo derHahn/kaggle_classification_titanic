{
 "cells": [
  {
   "cell_type": "markdown",
   "id": "e9e402d1-240f-4118-941b-9c9b2302f292",
   "metadata": {},
   "source": [
    "## Kaggle competition\n",
    "### Titanic: Machine Learning From Desaster\n",
    "Jens Hahn"
   ]
  },
  {
   "cell_type": "markdown",
   "id": "e3045b56-b230-443e-ac38-5c1676d879ae",
   "metadata": {},
   "source": [
    "### 2. Model"
   ]
  },
  {
   "cell_type": "code",
   "execution_count": 84,
   "id": "e8f66e28-73ae-414a-a47f-cc9cae031ef2",
   "metadata": {},
   "outputs": [],
   "source": [
    "import pandas as pd\n",
    "import numpy as np\n",
    "\n",
    "from sklearn.model_selection import train_test_split, cross_val_score\n",
    "from sklearn.pipeline import Pipeline\n",
    "from sklearn.compose import ColumnTransformer\n",
    "from sklearn.preprocessing import PowerTransformer, KBinsDiscretizer, OneHotEncoder, FunctionTransformer\n",
    "from sklearn.impute import SimpleImputer\n",
    "\n",
    "from sklearn.ensemble import RandomForestClassifier, GradientBoostingClassifier"
   ]
  },
  {
   "cell_type": "markdown",
   "id": "9ff5ed67-cea2-447a-9cf8-284eda0e74c0",
   "metadata": {},
   "source": [
    "Load data"
   ]
  },
  {
   "cell_type": "code",
   "execution_count": 166,
   "id": "f2469547-745d-422d-a551-360695aa0f18",
   "metadata": {},
   "outputs": [],
   "source": [
    "df = pd.read_csv('data/train.csv', index_col=0)"
   ]
  },
  {
   "cell_type": "code",
   "execution_count": 167,
   "id": "de476f46-323b-4925-8a79-416c413aafb3",
   "metadata": {},
   "outputs": [],
   "source": [
    "X = df.drop('Survived', axis=1)\n",
    "y = df['Survived']"
   ]
  },
  {
   "cell_type": "markdown",
   "id": "c8433c52-24a2-4e2c-998c-ad5924dd3455",
   "metadata": {},
   "source": [
    "Set `FunctionTransformer`"
   ]
  },
  {
   "cell_type": "code",
   "execution_count": 168,
   "id": "b6dab508-0aef-437f-9db5-fe72a36ef04c",
   "metadata": {},
   "outputs": [],
   "source": [
    "def cabin_code(frame):\n",
    "    \"\"\"get one letter code for cabin, add 'U' for unknown\"\"\"\n",
    "    column = frame.iloc[:,0]\n",
    "    column.fillna('U', inplace=True)\n",
    "    return column.str[0].to_frame()"
   ]
  },
  {
   "cell_type": "code",
   "execution_count": 183,
   "id": "d79e2810-c685-4cec-ac65-61d8d02c2f4c",
   "metadata": {},
   "outputs": [],
   "source": [
    "def family(frame):\n",
    "    \"\"\"add a column with sum of family members\"\"\"\n",
    "    frame['family'] = frame.sum(axis=1)\n",
    "    return frame"
   ]
  },
  {
   "cell_type": "code",
   "execution_count": 185,
   "id": "b1b02938-9487-4282-a5ef-3d51a3fab90a",
   "metadata": {},
   "outputs": [],
   "source": [
    "def title_len(frame):\n",
    "    \"\"\"add column with length of name\"\"\"\n",
    "    column = frame.iloc[:,0]\n",
    "    return column.str.len().to_frame()"
   ]
  },
  {
   "cell_type": "code",
   "execution_count": 186,
   "id": "b12f2835-ce9b-4098-a79f-2a64c7534888",
   "metadata": {},
   "outputs": [],
   "source": [
    "def titles(frame):\n",
    "    \"\"\"extract titles from names\"\"\"\n",
    "    output = frame.copy()\n",
    "    col_name = output.columns[0]\n",
    "    for i in output.index:\n",
    "        name = str(output.loc[i, col_name])\n",
    "        name = name.replace(',', '')\n",
    "        name = name.replace('(', '')\n",
    "        name = name.replace(')', '')\n",
    "        name = name.replace('\"', '')\n",
    "        name = name.split(' ')\n",
    "        if 'Mr.' in name or 'Mr ' in name:\n",
    "            output.loc[i] = 'Mr'\n",
    "        elif 'Miss' in name:\n",
    "            output.loc[i] = 'Miss'\n",
    "        elif 'Mrs.' in name or 'Mrs ' in name:\n",
    "            output.loc[i] = 'Mrs'\n",
    "        elif 'Master' in name:\n",
    "            output.loc[i] = 'Master'\n",
    "        elif 'Dr.' in name:\n",
    "            output.loc[i] = 'Dr'\n",
    "        elif 'Jr' in name or 'Jr.' in name:\n",
    "            output.loc[i] = 'Jr'\n",
    "        else:\n",
    "            output.loc[i] = 'other'\n",
    "    return output"
   ]
  },
  {
   "cell_type": "code",
   "execution_count": 201,
   "id": "038544f2-398f-4d2f-8682-42522535c9cf",
   "metadata": {},
   "outputs": [],
   "source": [
    "def add_bias(frame):\n",
    "    \"\"\"add bias for box-cox transformation, all > 0\"\"\"\n",
    "    frame.fillna(0, inplace=True)\n",
    "    return frame + 0.001"
   ]
  },
  {
   "cell_type": "markdown",
   "id": "19afe647-b909-4570-9242-41d6177bf6f0",
   "metadata": {},
   "source": [
    "Split data"
   ]
  },
  {
   "cell_type": "code",
   "execution_count": 202,
   "id": "91b1c076-0d8e-48b3-a826-b0c9aba98206",
   "metadata": {},
   "outputs": [],
   "source": [
    "X_train, X_test, y_train, y_test = train_test_split(X, y, stratify=y)"
   ]
  },
  {
   "cell_type": "markdown",
   "id": "5ccd09b7-8f08-469c-a588-62b72bd746be",
   "metadata": {},
   "source": [
    "Define pipelines"
   ]
  },
  {
   "cell_type": "code",
   "execution_count": 225,
   "id": "79316bef-808d-4df5-97cd-711ee47db4a2",
   "metadata": {},
   "outputs": [],
   "source": [
    "age_pipe = Pipeline([\n",
    "    ('age_imp', SimpleImputer(strategy='mean')),\n",
    "    ('age_bin', KBinsDiscretizer())\n",
    "])\n",
    "\n",
    "title_pipe = Pipeline([\n",
    "    ('title_get', FunctionTransformer(titles)),\n",
    "    ('titles_ohe', OneHotEncoder(handle_unknown='ignore'))\n",
    "])\n",
    "\n",
    "family_pipe = Pipeline([\n",
    "    ('fam_get', FunctionTransformer(family)),\n",
    "    ('fam_ohe', OneHotEncoder(handle_unknown='ignore'))\n",
    "])\n",
    "\n",
    "cabin_pipe = Pipeline([\n",
    "    ('cab_letter', FunctionTransformer(cabin_code)),\n",
    "    ('cab_ohe', OneHotEncoder(handle_unknown='ignore'))\n",
    "])\n",
    "\n",
    "embarked_pipe = Pipeline([\n",
    "    ('emb_imp', SimpleImputer(strategy='most_frequent')),\n",
    "    ('emb_ohe', OneHotEncoder(handle_unknown='ignore'))\n",
    "])\n",
    "\n",
    "fare_pipe = Pipeline([\n",
    "    ('fare_add', FunctionTransformer(add_bias)),\n",
    "    ('fare_trans', PowerTransformer(method='box-cox')),\n",
    "    ('fare_bin', KBinsDiscretizer())\n",
    "])"
   ]
  },
  {
   "cell_type": "code",
   "execution_count": 226,
   "id": "771cd8d5-3b47-4158-9e0e-0b305b5a246b",
   "metadata": {},
   "outputs": [],
   "source": [
    "ct = ColumnTransformer([\n",
    "    ('cabin', cabin_pipe, ['Cabin']),\n",
    "    ('family', family_pipe, ['SibSp', 'Parch']),\n",
    "    ('name_len', FunctionTransformer(title_len), ['Name']),\n",
    "    ('title', title_pipe, ['Name']),\n",
    "    ('fare', fare_pipe, ['Fare']),\n",
    "    ('age', age_pipe, ['Age']),\n",
    "    ('class', OneHotEncoder(), ['Pclass']),\n",
    "    ('sex', OneHotEncoder(), ['Sex']),\n",
    "    ('embark', embarked_pipe, ['Embarked'])\n",
    "], remainder='drop')"
   ]
  },
  {
   "cell_type": "code",
   "execution_count": 239,
   "id": "c93c2190-6820-4f73-964a-e4372936033c",
   "metadata": {},
   "outputs": [],
   "source": [
    "model_pipe = Pipeline([\n",
    "    ('ct', ct),\n",
    "    # ('model', RandomForestClassifier(max_depth=6))\n",
    "    ('model', GradientBoostingClassifier())\n",
    "])"
   ]
  },
  {
   "cell_type": "code",
   "execution_count": 240,
   "id": "d31ccea7-6909-4648-9422-7d64d3004767",
   "metadata": {},
   "outputs": [
    {
     "data": {
      "text/html": [
       "<style>#sk-container-id-15 {color: black;background-color: white;}#sk-container-id-15 pre{padding: 0;}#sk-container-id-15 div.sk-toggleable {background-color: white;}#sk-container-id-15 label.sk-toggleable__label {cursor: pointer;display: block;width: 100%;margin-bottom: 0;padding: 0.3em;box-sizing: border-box;text-align: center;}#sk-container-id-15 label.sk-toggleable__label-arrow:before {content: \"▸\";float: left;margin-right: 0.25em;color: #696969;}#sk-container-id-15 label.sk-toggleable__label-arrow:hover:before {color: black;}#sk-container-id-15 div.sk-estimator:hover label.sk-toggleable__label-arrow:before {color: black;}#sk-container-id-15 div.sk-toggleable__content {max-height: 0;max-width: 0;overflow: hidden;text-align: left;background-color: #f0f8ff;}#sk-container-id-15 div.sk-toggleable__content pre {margin: 0.2em;color: black;border-radius: 0.25em;background-color: #f0f8ff;}#sk-container-id-15 input.sk-toggleable__control:checked~div.sk-toggleable__content {max-height: 200px;max-width: 100%;overflow: auto;}#sk-container-id-15 input.sk-toggleable__control:checked~label.sk-toggleable__label-arrow:before {content: \"▾\";}#sk-container-id-15 div.sk-estimator input.sk-toggleable__control:checked~label.sk-toggleable__label {background-color: #d4ebff;}#sk-container-id-15 div.sk-label input.sk-toggleable__control:checked~label.sk-toggleable__label {background-color: #d4ebff;}#sk-container-id-15 input.sk-hidden--visually {border: 0;clip: rect(1px 1px 1px 1px);clip: rect(1px, 1px, 1px, 1px);height: 1px;margin: -1px;overflow: hidden;padding: 0;position: absolute;width: 1px;}#sk-container-id-15 div.sk-estimator {font-family: monospace;background-color: #f0f8ff;border: 1px dotted black;border-radius: 0.25em;box-sizing: border-box;margin-bottom: 0.5em;}#sk-container-id-15 div.sk-estimator:hover {background-color: #d4ebff;}#sk-container-id-15 div.sk-parallel-item::after {content: \"\";width: 100%;border-bottom: 1px solid gray;flex-grow: 1;}#sk-container-id-15 div.sk-label:hover label.sk-toggleable__label {background-color: #d4ebff;}#sk-container-id-15 div.sk-serial::before {content: \"\";position: absolute;border-left: 1px solid gray;box-sizing: border-box;top: 0;bottom: 0;left: 50%;z-index: 0;}#sk-container-id-15 div.sk-serial {display: flex;flex-direction: column;align-items: center;background-color: white;padding-right: 0.2em;padding-left: 0.2em;position: relative;}#sk-container-id-15 div.sk-item {position: relative;z-index: 1;}#sk-container-id-15 div.sk-parallel {display: flex;align-items: stretch;justify-content: center;background-color: white;position: relative;}#sk-container-id-15 div.sk-item::before, #sk-container-id-15 div.sk-parallel-item::before {content: \"\";position: absolute;border-left: 1px solid gray;box-sizing: border-box;top: 0;bottom: 0;left: 50%;z-index: -1;}#sk-container-id-15 div.sk-parallel-item {display: flex;flex-direction: column;z-index: 1;position: relative;background-color: white;}#sk-container-id-15 div.sk-parallel-item:first-child::after {align-self: flex-end;width: 50%;}#sk-container-id-15 div.sk-parallel-item:last-child::after {align-self: flex-start;width: 50%;}#sk-container-id-15 div.sk-parallel-item:only-child::after {width: 0;}#sk-container-id-15 div.sk-dashed-wrapped {border: 1px dashed gray;margin: 0 0.4em 0.5em 0.4em;box-sizing: border-box;padding-bottom: 0.4em;background-color: white;}#sk-container-id-15 div.sk-label label {font-family: monospace;font-weight: bold;display: inline-block;line-height: 1.2em;}#sk-container-id-15 div.sk-label-container {text-align: center;}#sk-container-id-15 div.sk-container {/* jupyter's `normalize.less` sets `[hidden] { display: none; }` but bootstrap.min.css set `[hidden] { display: none !important; }` so we also need the `!important` here to be able to override the default hidden behavior on the sphinx rendered scikit-learn.org. See: https://github.com/scikit-learn/scikit-learn/issues/21755 */display: inline-block !important;position: relative;}#sk-container-id-15 div.sk-text-repr-fallback {display: none;}</style><div id=\"sk-container-id-15\" class=\"sk-top-container\"><div class=\"sk-text-repr-fallback\"><pre>Pipeline(steps=[(&#x27;ct&#x27;,\n",
       "                 ColumnTransformer(transformers=[(&#x27;cabin&#x27;,\n",
       "                                                  Pipeline(steps=[(&#x27;cab_letter&#x27;,\n",
       "                                                                   FunctionTransformer(func=&lt;function cabin_code at 0x7f2f666392d0&gt;)),\n",
       "                                                                  (&#x27;cab_ohe&#x27;,\n",
       "                                                                   OneHotEncoder(handle_unknown=&#x27;ignore&#x27;))]),\n",
       "                                                  [&#x27;Cabin&#x27;]),\n",
       "                                                 (&#x27;family&#x27;,\n",
       "                                                  Pipeline(steps=[(&#x27;fam_get&#x27;,\n",
       "                                                                   FunctionTransformer(func=&lt;function family at 0x7f2f666396c0&gt;)),\n",
       "                                                                  (&#x27;fam_ohe&#x27;,\n",
       "                                                                   OneHotEncoder(handle_...\n",
       "                                                 (&#x27;age&#x27;,\n",
       "                                                  Pipeline(steps=[(&#x27;age_imp&#x27;,\n",
       "                                                                   SimpleImputer()),\n",
       "                                                                  (&#x27;age_bin&#x27;,\n",
       "                                                                   KBinsDiscretizer())]),\n",
       "                                                  [&#x27;Age&#x27;]),\n",
       "                                                 (&#x27;class&#x27;, OneHotEncoder(),\n",
       "                                                  [&#x27;Pclass&#x27;]),\n",
       "                                                 (&#x27;sex&#x27;, OneHotEncoder(),\n",
       "                                                  [&#x27;Sex&#x27;]),\n",
       "                                                 (&#x27;embark&#x27;,\n",
       "                                                  Pipeline(steps=[(&#x27;emb_imp&#x27;,\n",
       "                                                                   SimpleImputer(strategy=&#x27;most_frequent&#x27;)),\n",
       "                                                                  (&#x27;emb_ohe&#x27;,\n",
       "                                                                   OneHotEncoder(handle_unknown=&#x27;ignore&#x27;))]),\n",
       "                                                  [&#x27;Embarked&#x27;])])),\n",
       "                (&#x27;model&#x27;, GradientBoostingClassifier())])</pre><b>In a Jupyter environment, please rerun this cell to show the HTML representation or trust the notebook. <br />On GitHub, the HTML representation is unable to render, please try loading this page with nbviewer.org.</b></div><div class=\"sk-container\" hidden><div class=\"sk-item sk-dashed-wrapped\"><div class=\"sk-label-container\"><div class=\"sk-label sk-toggleable\"><input class=\"sk-toggleable__control sk-hidden--visually\" id=\"sk-estimator-id-354\" type=\"checkbox\" ><label for=\"sk-estimator-id-354\" class=\"sk-toggleable__label sk-toggleable__label-arrow\">Pipeline</label><div class=\"sk-toggleable__content\"><pre>Pipeline(steps=[(&#x27;ct&#x27;,\n",
       "                 ColumnTransformer(transformers=[(&#x27;cabin&#x27;,\n",
       "                                                  Pipeline(steps=[(&#x27;cab_letter&#x27;,\n",
       "                                                                   FunctionTransformer(func=&lt;function cabin_code at 0x7f2f666392d0&gt;)),\n",
       "                                                                  (&#x27;cab_ohe&#x27;,\n",
       "                                                                   OneHotEncoder(handle_unknown=&#x27;ignore&#x27;))]),\n",
       "                                                  [&#x27;Cabin&#x27;]),\n",
       "                                                 (&#x27;family&#x27;,\n",
       "                                                  Pipeline(steps=[(&#x27;fam_get&#x27;,\n",
       "                                                                   FunctionTransformer(func=&lt;function family at 0x7f2f666396c0&gt;)),\n",
       "                                                                  (&#x27;fam_ohe&#x27;,\n",
       "                                                                   OneHotEncoder(handle_...\n",
       "                                                 (&#x27;age&#x27;,\n",
       "                                                  Pipeline(steps=[(&#x27;age_imp&#x27;,\n",
       "                                                                   SimpleImputer()),\n",
       "                                                                  (&#x27;age_bin&#x27;,\n",
       "                                                                   KBinsDiscretizer())]),\n",
       "                                                  [&#x27;Age&#x27;]),\n",
       "                                                 (&#x27;class&#x27;, OneHotEncoder(),\n",
       "                                                  [&#x27;Pclass&#x27;]),\n",
       "                                                 (&#x27;sex&#x27;, OneHotEncoder(),\n",
       "                                                  [&#x27;Sex&#x27;]),\n",
       "                                                 (&#x27;embark&#x27;,\n",
       "                                                  Pipeline(steps=[(&#x27;emb_imp&#x27;,\n",
       "                                                                   SimpleImputer(strategy=&#x27;most_frequent&#x27;)),\n",
       "                                                                  (&#x27;emb_ohe&#x27;,\n",
       "                                                                   OneHotEncoder(handle_unknown=&#x27;ignore&#x27;))]),\n",
       "                                                  [&#x27;Embarked&#x27;])])),\n",
       "                (&#x27;model&#x27;, GradientBoostingClassifier())])</pre></div></div></div><div class=\"sk-serial\"><div class=\"sk-item sk-dashed-wrapped\"><div class=\"sk-label-container\"><div class=\"sk-label sk-toggleable\"><input class=\"sk-toggleable__control sk-hidden--visually\" id=\"sk-estimator-id-355\" type=\"checkbox\" ><label for=\"sk-estimator-id-355\" class=\"sk-toggleable__label sk-toggleable__label-arrow\">ct: ColumnTransformer</label><div class=\"sk-toggleable__content\"><pre>ColumnTransformer(transformers=[(&#x27;cabin&#x27;,\n",
       "                                 Pipeline(steps=[(&#x27;cab_letter&#x27;,\n",
       "                                                  FunctionTransformer(func=&lt;function cabin_code at 0x7f2f666392d0&gt;)),\n",
       "                                                 (&#x27;cab_ohe&#x27;,\n",
       "                                                  OneHotEncoder(handle_unknown=&#x27;ignore&#x27;))]),\n",
       "                                 [&#x27;Cabin&#x27;]),\n",
       "                                (&#x27;family&#x27;,\n",
       "                                 Pipeline(steps=[(&#x27;fam_get&#x27;,\n",
       "                                                  FunctionTransformer(func=&lt;function family at 0x7f2f666396c0&gt;)),\n",
       "                                                 (&#x27;fam_ohe&#x27;,\n",
       "                                                  OneHotEncoder(handle_unknown=&#x27;ignore&#x27;))]),\n",
       "                                 [...\n",
       "                                                 (&#x27;fare_bin&#x27;,\n",
       "                                                  KBinsDiscretizer())]),\n",
       "                                 [&#x27;Fare&#x27;]),\n",
       "                                (&#x27;age&#x27;,\n",
       "                                 Pipeline(steps=[(&#x27;age_imp&#x27;, SimpleImputer()),\n",
       "                                                 (&#x27;age_bin&#x27;,\n",
       "                                                  KBinsDiscretizer())]),\n",
       "                                 [&#x27;Age&#x27;]),\n",
       "                                (&#x27;class&#x27;, OneHotEncoder(), [&#x27;Pclass&#x27;]),\n",
       "                                (&#x27;sex&#x27;, OneHotEncoder(), [&#x27;Sex&#x27;]),\n",
       "                                (&#x27;embark&#x27;,\n",
       "                                 Pipeline(steps=[(&#x27;emb_imp&#x27;,\n",
       "                                                  SimpleImputer(strategy=&#x27;most_frequent&#x27;)),\n",
       "                                                 (&#x27;emb_ohe&#x27;,\n",
       "                                                  OneHotEncoder(handle_unknown=&#x27;ignore&#x27;))]),\n",
       "                                 [&#x27;Embarked&#x27;])])</pre></div></div></div><div class=\"sk-parallel\"><div class=\"sk-parallel-item\"><div class=\"sk-item\"><div class=\"sk-label-container\"><div class=\"sk-label sk-toggleable\"><input class=\"sk-toggleable__control sk-hidden--visually\" id=\"sk-estimator-id-356\" type=\"checkbox\" ><label for=\"sk-estimator-id-356\" class=\"sk-toggleable__label sk-toggleable__label-arrow\">cabin</label><div class=\"sk-toggleable__content\"><pre>[&#x27;Cabin&#x27;]</pre></div></div></div><div class=\"sk-serial\"><div class=\"sk-item\"><div class=\"sk-serial\"><div class=\"sk-item\"><div class=\"sk-estimator sk-toggleable\"><input class=\"sk-toggleable__control sk-hidden--visually\" id=\"sk-estimator-id-357\" type=\"checkbox\" ><label for=\"sk-estimator-id-357\" class=\"sk-toggleable__label sk-toggleable__label-arrow\">FunctionTransformer</label><div class=\"sk-toggleable__content\"><pre>FunctionTransformer(func=&lt;function cabin_code at 0x7f2f666392d0&gt;)</pre></div></div></div><div class=\"sk-item\"><div class=\"sk-estimator sk-toggleable\"><input class=\"sk-toggleable__control sk-hidden--visually\" id=\"sk-estimator-id-358\" type=\"checkbox\" ><label for=\"sk-estimator-id-358\" class=\"sk-toggleable__label sk-toggleable__label-arrow\">OneHotEncoder</label><div class=\"sk-toggleable__content\"><pre>OneHotEncoder(handle_unknown=&#x27;ignore&#x27;)</pre></div></div></div></div></div></div></div></div><div class=\"sk-parallel-item\"><div class=\"sk-item\"><div class=\"sk-label-container\"><div class=\"sk-label sk-toggleable\"><input class=\"sk-toggleable__control sk-hidden--visually\" id=\"sk-estimator-id-359\" type=\"checkbox\" ><label for=\"sk-estimator-id-359\" class=\"sk-toggleable__label sk-toggleable__label-arrow\">family</label><div class=\"sk-toggleable__content\"><pre>[&#x27;SibSp&#x27;, &#x27;Parch&#x27;]</pre></div></div></div><div class=\"sk-serial\"><div class=\"sk-item\"><div class=\"sk-serial\"><div class=\"sk-item\"><div class=\"sk-estimator sk-toggleable\"><input class=\"sk-toggleable__control sk-hidden--visually\" id=\"sk-estimator-id-360\" type=\"checkbox\" ><label for=\"sk-estimator-id-360\" class=\"sk-toggleable__label sk-toggleable__label-arrow\">FunctionTransformer</label><div class=\"sk-toggleable__content\"><pre>FunctionTransformer(func=&lt;function family at 0x7f2f666396c0&gt;)</pre></div></div></div><div class=\"sk-item\"><div class=\"sk-estimator sk-toggleable\"><input class=\"sk-toggleable__control sk-hidden--visually\" id=\"sk-estimator-id-361\" type=\"checkbox\" ><label for=\"sk-estimator-id-361\" class=\"sk-toggleable__label sk-toggleable__label-arrow\">OneHotEncoder</label><div class=\"sk-toggleable__content\"><pre>OneHotEncoder(handle_unknown=&#x27;ignore&#x27;)</pre></div></div></div></div></div></div></div></div><div class=\"sk-parallel-item\"><div class=\"sk-item\"><div class=\"sk-label-container\"><div class=\"sk-label sk-toggleable\"><input class=\"sk-toggleable__control sk-hidden--visually\" id=\"sk-estimator-id-362\" type=\"checkbox\" ><label for=\"sk-estimator-id-362\" class=\"sk-toggleable__label sk-toggleable__label-arrow\">name_len</label><div class=\"sk-toggleable__content\"><pre>[&#x27;Name&#x27;]</pre></div></div></div><div class=\"sk-serial\"><div class=\"sk-item\"><div class=\"sk-estimator sk-toggleable\"><input class=\"sk-toggleable__control sk-hidden--visually\" id=\"sk-estimator-id-363\" type=\"checkbox\" ><label for=\"sk-estimator-id-363\" class=\"sk-toggleable__label sk-toggleable__label-arrow\">FunctionTransformer</label><div class=\"sk-toggleable__content\"><pre>FunctionTransformer(func=&lt;function title_len at 0x7f2f66639360&gt;)</pre></div></div></div></div></div></div><div class=\"sk-parallel-item\"><div class=\"sk-item\"><div class=\"sk-label-container\"><div class=\"sk-label sk-toggleable\"><input class=\"sk-toggleable__control sk-hidden--visually\" id=\"sk-estimator-id-364\" type=\"checkbox\" ><label for=\"sk-estimator-id-364\" class=\"sk-toggleable__label sk-toggleable__label-arrow\">title</label><div class=\"sk-toggleable__content\"><pre>[&#x27;Name&#x27;]</pre></div></div></div><div class=\"sk-serial\"><div class=\"sk-item\"><div class=\"sk-serial\"><div class=\"sk-item\"><div class=\"sk-estimator sk-toggleable\"><input class=\"sk-toggleable__control sk-hidden--visually\" id=\"sk-estimator-id-365\" type=\"checkbox\" ><label for=\"sk-estimator-id-365\" class=\"sk-toggleable__label sk-toggleable__label-arrow\">FunctionTransformer</label><div class=\"sk-toggleable__content\"><pre>FunctionTransformer(func=&lt;function titles at 0x7f2f666380d0&gt;)</pre></div></div></div><div class=\"sk-item\"><div class=\"sk-estimator sk-toggleable\"><input class=\"sk-toggleable__control sk-hidden--visually\" id=\"sk-estimator-id-366\" type=\"checkbox\" ><label for=\"sk-estimator-id-366\" class=\"sk-toggleable__label sk-toggleable__label-arrow\">OneHotEncoder</label><div class=\"sk-toggleable__content\"><pre>OneHotEncoder(handle_unknown=&#x27;ignore&#x27;)</pre></div></div></div></div></div></div></div></div><div class=\"sk-parallel-item\"><div class=\"sk-item\"><div class=\"sk-label-container\"><div class=\"sk-label sk-toggleable\"><input class=\"sk-toggleable__control sk-hidden--visually\" id=\"sk-estimator-id-367\" type=\"checkbox\" ><label for=\"sk-estimator-id-367\" class=\"sk-toggleable__label sk-toggleable__label-arrow\">fare</label><div class=\"sk-toggleable__content\"><pre>[&#x27;Fare&#x27;]</pre></div></div></div><div class=\"sk-serial\"><div class=\"sk-item\"><div class=\"sk-serial\"><div class=\"sk-item\"><div class=\"sk-estimator sk-toggleable\"><input class=\"sk-toggleable__control sk-hidden--visually\" id=\"sk-estimator-id-368\" type=\"checkbox\" ><label for=\"sk-estimator-id-368\" class=\"sk-toggleable__label sk-toggleable__label-arrow\">FunctionTransformer</label><div class=\"sk-toggleable__content\"><pre>FunctionTransformer(func=&lt;function add_bias at 0x7f2f641ca830&gt;)</pre></div></div></div><div class=\"sk-item\"><div class=\"sk-estimator sk-toggleable\"><input class=\"sk-toggleable__control sk-hidden--visually\" id=\"sk-estimator-id-369\" type=\"checkbox\" ><label for=\"sk-estimator-id-369\" class=\"sk-toggleable__label sk-toggleable__label-arrow\">PowerTransformer</label><div class=\"sk-toggleable__content\"><pre>PowerTransformer(method=&#x27;box-cox&#x27;)</pre></div></div></div><div class=\"sk-item\"><div class=\"sk-estimator sk-toggleable\"><input class=\"sk-toggleable__control sk-hidden--visually\" id=\"sk-estimator-id-370\" type=\"checkbox\" ><label for=\"sk-estimator-id-370\" class=\"sk-toggleable__label sk-toggleable__label-arrow\">KBinsDiscretizer</label><div class=\"sk-toggleable__content\"><pre>KBinsDiscretizer()</pre></div></div></div></div></div></div></div></div><div class=\"sk-parallel-item\"><div class=\"sk-item\"><div class=\"sk-label-container\"><div class=\"sk-label sk-toggleable\"><input class=\"sk-toggleable__control sk-hidden--visually\" id=\"sk-estimator-id-371\" type=\"checkbox\" ><label for=\"sk-estimator-id-371\" class=\"sk-toggleable__label sk-toggleable__label-arrow\">age</label><div class=\"sk-toggleable__content\"><pre>[&#x27;Age&#x27;]</pre></div></div></div><div class=\"sk-serial\"><div class=\"sk-item\"><div class=\"sk-serial\"><div class=\"sk-item\"><div class=\"sk-estimator sk-toggleable\"><input class=\"sk-toggleable__control sk-hidden--visually\" id=\"sk-estimator-id-372\" type=\"checkbox\" ><label for=\"sk-estimator-id-372\" class=\"sk-toggleable__label sk-toggleable__label-arrow\">SimpleImputer</label><div class=\"sk-toggleable__content\"><pre>SimpleImputer()</pre></div></div></div><div class=\"sk-item\"><div class=\"sk-estimator sk-toggleable\"><input class=\"sk-toggleable__control sk-hidden--visually\" id=\"sk-estimator-id-373\" type=\"checkbox\" ><label for=\"sk-estimator-id-373\" class=\"sk-toggleable__label sk-toggleable__label-arrow\">KBinsDiscretizer</label><div class=\"sk-toggleable__content\"><pre>KBinsDiscretizer()</pre></div></div></div></div></div></div></div></div><div class=\"sk-parallel-item\"><div class=\"sk-item\"><div class=\"sk-label-container\"><div class=\"sk-label sk-toggleable\"><input class=\"sk-toggleable__control sk-hidden--visually\" id=\"sk-estimator-id-374\" type=\"checkbox\" ><label for=\"sk-estimator-id-374\" class=\"sk-toggleable__label sk-toggleable__label-arrow\">class</label><div class=\"sk-toggleable__content\"><pre>[&#x27;Pclass&#x27;]</pre></div></div></div><div class=\"sk-serial\"><div class=\"sk-item\"><div class=\"sk-estimator sk-toggleable\"><input class=\"sk-toggleable__control sk-hidden--visually\" id=\"sk-estimator-id-375\" type=\"checkbox\" ><label for=\"sk-estimator-id-375\" class=\"sk-toggleable__label sk-toggleable__label-arrow\">OneHotEncoder</label><div class=\"sk-toggleable__content\"><pre>OneHotEncoder()</pre></div></div></div></div></div></div><div class=\"sk-parallel-item\"><div class=\"sk-item\"><div class=\"sk-label-container\"><div class=\"sk-label sk-toggleable\"><input class=\"sk-toggleable__control sk-hidden--visually\" id=\"sk-estimator-id-376\" type=\"checkbox\" ><label for=\"sk-estimator-id-376\" class=\"sk-toggleable__label sk-toggleable__label-arrow\">sex</label><div class=\"sk-toggleable__content\"><pre>[&#x27;Sex&#x27;]</pre></div></div></div><div class=\"sk-serial\"><div class=\"sk-item\"><div class=\"sk-estimator sk-toggleable\"><input class=\"sk-toggleable__control sk-hidden--visually\" id=\"sk-estimator-id-377\" type=\"checkbox\" ><label for=\"sk-estimator-id-377\" class=\"sk-toggleable__label sk-toggleable__label-arrow\">OneHotEncoder</label><div class=\"sk-toggleable__content\"><pre>OneHotEncoder()</pre></div></div></div></div></div></div><div class=\"sk-parallel-item\"><div class=\"sk-item\"><div class=\"sk-label-container\"><div class=\"sk-label sk-toggleable\"><input class=\"sk-toggleable__control sk-hidden--visually\" id=\"sk-estimator-id-378\" type=\"checkbox\" ><label for=\"sk-estimator-id-378\" class=\"sk-toggleable__label sk-toggleable__label-arrow\">embark</label><div class=\"sk-toggleable__content\"><pre>[&#x27;Embarked&#x27;]</pre></div></div></div><div class=\"sk-serial\"><div class=\"sk-item\"><div class=\"sk-serial\"><div class=\"sk-item\"><div class=\"sk-estimator sk-toggleable\"><input class=\"sk-toggleable__control sk-hidden--visually\" id=\"sk-estimator-id-379\" type=\"checkbox\" ><label for=\"sk-estimator-id-379\" class=\"sk-toggleable__label sk-toggleable__label-arrow\">SimpleImputer</label><div class=\"sk-toggleable__content\"><pre>SimpleImputer(strategy=&#x27;most_frequent&#x27;)</pre></div></div></div><div class=\"sk-item\"><div class=\"sk-estimator sk-toggleable\"><input class=\"sk-toggleable__control sk-hidden--visually\" id=\"sk-estimator-id-380\" type=\"checkbox\" ><label for=\"sk-estimator-id-380\" class=\"sk-toggleable__label sk-toggleable__label-arrow\">OneHotEncoder</label><div class=\"sk-toggleable__content\"><pre>OneHotEncoder(handle_unknown=&#x27;ignore&#x27;)</pre></div></div></div></div></div></div></div></div></div></div><div class=\"sk-item\"><div class=\"sk-estimator sk-toggleable\"><input class=\"sk-toggleable__control sk-hidden--visually\" id=\"sk-estimator-id-381\" type=\"checkbox\" ><label for=\"sk-estimator-id-381\" class=\"sk-toggleable__label sk-toggleable__label-arrow\">GradientBoostingClassifier</label><div class=\"sk-toggleable__content\"><pre>GradientBoostingClassifier()</pre></div></div></div></div></div></div></div>"
      ],
      "text/plain": [
       "Pipeline(steps=[('ct',\n",
       "                 ColumnTransformer(transformers=[('cabin',\n",
       "                                                  Pipeline(steps=[('cab_letter',\n",
       "                                                                   FunctionTransformer(func=<function cabin_code at 0x7f2f666392d0>)),\n",
       "                                                                  ('cab_ohe',\n",
       "                                                                   OneHotEncoder(handle_unknown='ignore'))]),\n",
       "                                                  ['Cabin']),\n",
       "                                                 ('family',\n",
       "                                                  Pipeline(steps=[('fam_get',\n",
       "                                                                   FunctionTransformer(func=<function family at 0x7f2f666396c0>)),\n",
       "                                                                  ('fam_ohe',\n",
       "                                                                   OneHotEncoder(handle_...\n",
       "                                                 ('age',\n",
       "                                                  Pipeline(steps=[('age_imp',\n",
       "                                                                   SimpleImputer()),\n",
       "                                                                  ('age_bin',\n",
       "                                                                   KBinsDiscretizer())]),\n",
       "                                                  ['Age']),\n",
       "                                                 ('class', OneHotEncoder(),\n",
       "                                                  ['Pclass']),\n",
       "                                                 ('sex', OneHotEncoder(),\n",
       "                                                  ['Sex']),\n",
       "                                                 ('embark',\n",
       "                                                  Pipeline(steps=[('emb_imp',\n",
       "                                                                   SimpleImputer(strategy='most_frequent')),\n",
       "                                                                  ('emb_ohe',\n",
       "                                                                   OneHotEncoder(handle_unknown='ignore'))]),\n",
       "                                                  ['Embarked'])])),\n",
       "                ('model', GradientBoostingClassifier())])"
      ]
     },
     "execution_count": 240,
     "metadata": {},
     "output_type": "execute_result"
    }
   ],
   "source": [
    "model_pipe.fit(X_train, y_train)"
   ]
  },
  {
   "cell_type": "code",
   "execution_count": 241,
   "id": "5ba2a9d4-b56f-47a5-99f5-ad78b1b824bd",
   "metadata": {},
   "outputs": [
    {
     "data": {
      "text/plain": [
       "0.9041916167664671"
      ]
     },
     "execution_count": 241,
     "metadata": {},
     "output_type": "execute_result"
    }
   ],
   "source": [
    "model_pipe.score(X_train, y_train)"
   ]
  },
  {
   "cell_type": "code",
   "execution_count": 242,
   "id": "6140d806-02c2-4444-9bea-677a2c5714d0",
   "metadata": {},
   "outputs": [
    {
     "data": {
      "text/plain": [
       "0.8116591928251121"
      ]
     },
     "execution_count": 242,
     "metadata": {},
     "output_type": "execute_result"
    }
   ],
   "source": [
    "model_pipe.score(X_test, y_test)"
   ]
  },
  {
   "cell_type": "code",
   "execution_count": 243,
   "id": "2cf1e463-b6e8-4bf4-9dda-0dc3d679509c",
   "metadata": {},
   "outputs": [],
   "source": [
    "scores = cross_val_score(model_pipe, X_train, y_train, cv=5)"
   ]
  },
  {
   "cell_type": "code",
   "execution_count": 244,
   "id": "6e16b693-a288-44d9-8fbb-7ac9f75c8935",
   "metadata": {},
   "outputs": [
    {
     "data": {
      "text/plain": [
       "0.8308158455841095"
      ]
     },
     "execution_count": 244,
     "metadata": {},
     "output_type": "execute_result"
    }
   ],
   "source": [
    "scores.mean()"
   ]
  },
  {
   "cell_type": "markdown",
   "id": "1f537491-b332-4e4e-a17e-0931de792475",
   "metadata": {},
   "source": [
    "## Kaggle prediction"
   ]
  },
  {
   "cell_type": "code",
   "execution_count": 245,
   "id": "32478f33-114f-4e0f-93cb-896d31defc86",
   "metadata": {},
   "outputs": [],
   "source": [
    "df_kaggle = pd.read_csv('data/test.csv', index_col=0)"
   ]
  },
  {
   "cell_type": "code",
   "execution_count": 246,
   "id": "78e87a40-2621-425e-84e4-bf2ef58e8460",
   "metadata": {},
   "outputs": [],
   "source": [
    "X_kaggle = df_kaggle.copy()"
   ]
  },
  {
   "cell_type": "code",
   "execution_count": 247,
   "id": "140b4151-a274-463e-bd8a-035af712f47d",
   "metadata": {},
   "outputs": [],
   "source": [
    "y_kaggle = model_pipe.predict(X_kaggle)"
   ]
  },
  {
   "cell_type": "code",
   "execution_count": 248,
   "id": "4076bc5d-38c3-468c-ad98-27123d72fb14",
   "metadata": {},
   "outputs": [],
   "source": [
    "sol = pd.DataFrame(y_kaggle, columns=['Survived'], index=df_kaggle.index)"
   ]
  },
  {
   "cell_type": "code",
   "execution_count": 249,
   "id": "c5225668-b2fc-4362-9b53-8b310efa6063",
   "metadata": {},
   "outputs": [
    {
     "data": {
      "text/html": [
       "<div>\n",
       "<style scoped>\n",
       "    .dataframe tbody tr th:only-of-type {\n",
       "        vertical-align: middle;\n",
       "    }\n",
       "\n",
       "    .dataframe tbody tr th {\n",
       "        vertical-align: top;\n",
       "    }\n",
       "\n",
       "    .dataframe thead th {\n",
       "        text-align: right;\n",
       "    }\n",
       "</style>\n",
       "<table border=\"1\" class=\"dataframe\">\n",
       "  <thead>\n",
       "    <tr style=\"text-align: right;\">\n",
       "      <th></th>\n",
       "      <th>Survived</th>\n",
       "    </tr>\n",
       "    <tr>\n",
       "      <th>PassengerId</th>\n",
       "      <th></th>\n",
       "    </tr>\n",
       "  </thead>\n",
       "  <tbody>\n",
       "    <tr>\n",
       "      <th>892</th>\n",
       "      <td>0</td>\n",
       "    </tr>\n",
       "    <tr>\n",
       "      <th>893</th>\n",
       "      <td>1</td>\n",
       "    </tr>\n",
       "    <tr>\n",
       "      <th>894</th>\n",
       "      <td>0</td>\n",
       "    </tr>\n",
       "    <tr>\n",
       "      <th>895</th>\n",
       "      <td>0</td>\n",
       "    </tr>\n",
       "    <tr>\n",
       "      <th>896</th>\n",
       "      <td>0</td>\n",
       "    </tr>\n",
       "  </tbody>\n",
       "</table>\n",
       "</div>"
      ],
      "text/plain": [
       "             Survived\n",
       "PassengerId          \n",
       "892                 0\n",
       "893                 1\n",
       "894                 0\n",
       "895                 0\n",
       "896                 0"
      ]
     },
     "execution_count": 249,
     "metadata": {},
     "output_type": "execute_result"
    }
   ],
   "source": [
    "sol.head()"
   ]
  },
  {
   "cell_type": "code",
   "execution_count": 250,
   "id": "1393a19b-63da-4192-9323-06040f18a120",
   "metadata": {},
   "outputs": [],
   "source": [
    "sol.to_csv('solution.csv')"
   ]
  },
  {
   "cell_type": "code",
   "execution_count": null,
   "id": "5418a744-34b8-4133-bd58-5b45732b265c",
   "metadata": {},
   "outputs": [],
   "source": []
  }
 ],
 "metadata": {
  "kernelspec": {
   "display_name": "Python 3 (ipykernel)",
   "language": "python",
   "name": "python3"
  },
  "language_info": {
   "codemirror_mode": {
    "name": "ipython",
    "version": 3
   },
   "file_extension": ".py",
   "mimetype": "text/x-python",
   "name": "python",
   "nbconvert_exporter": "python",
   "pygments_lexer": "ipython3",
   "version": "3.10.7"
  }
 },
 "nbformat": 4,
 "nbformat_minor": 5
}
